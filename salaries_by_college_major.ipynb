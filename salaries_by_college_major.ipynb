{
 "cells": [
  {
   "cell_type": "markdown",
   "id": "da6d23b6",
   "metadata": {},
   "source": [
    "# Data Exploration with Pandas by Analysing the Post-University Salaries of Graduates by Major"
   ]
  },
  {
   "cell_type": "code",
   "execution_count": null,
   "id": "97eb5f6a",
   "metadata": {},
   "outputs": [],
   "source": [
    "import pandas as pd"
   ]
  },
  {
   "cell_type": "code",
   "execution_count": 2,
   "id": "951afa87",
   "metadata": {},
   "outputs": [],
   "source": [
    "df = pd.read_csv('salaries_by_college_major.csv')"
   ]
  },
  {
   "cell_type": "code",
   "execution_count": 3,
   "id": "29b44664",
   "metadata": {},
   "outputs": [
    {
     "data": {
      "text/html": [
       "<div>\n",
       "<style scoped>\n",
       "    .dataframe tbody tr th:only-of-type {\n",
       "        vertical-align: middle;\n",
       "    }\n",
       "\n",
       "    .dataframe tbody tr th {\n",
       "        vertical-align: top;\n",
       "    }\n",
       "\n",
       "    .dataframe thead th {\n",
       "        text-align: right;\n",
       "    }\n",
       "</style>\n",
       "<table border=\"1\" class=\"dataframe\">\n",
       "  <thead>\n",
       "    <tr style=\"text-align: right;\">\n",
       "      <th></th>\n",
       "      <th>Undergraduate Major</th>\n",
       "      <th>Starting Median Salary</th>\n",
       "      <th>Mid-Career Median Salary</th>\n",
       "      <th>Mid-Career 10th Percentile Salary</th>\n",
       "      <th>Mid-Career 90th Percentile Salary</th>\n",
       "      <th>Group</th>\n",
       "    </tr>\n",
       "  </thead>\n",
       "  <tbody>\n",
       "    <tr>\n",
       "      <th>0</th>\n",
       "      <td>Accounting</td>\n",
       "      <td>46000.0</td>\n",
       "      <td>77100.0</td>\n",
       "      <td>42200.0</td>\n",
       "      <td>152000.0</td>\n",
       "      <td>Business</td>\n",
       "    </tr>\n",
       "    <tr>\n",
       "      <th>1</th>\n",
       "      <td>Aerospace Engineering</td>\n",
       "      <td>57700.0</td>\n",
       "      <td>101000.0</td>\n",
       "      <td>64300.0</td>\n",
       "      <td>161000.0</td>\n",
       "      <td>STEM</td>\n",
       "    </tr>\n",
       "    <tr>\n",
       "      <th>2</th>\n",
       "      <td>Agriculture</td>\n",
       "      <td>42600.0</td>\n",
       "      <td>71900.0</td>\n",
       "      <td>36300.0</td>\n",
       "      <td>150000.0</td>\n",
       "      <td>Business</td>\n",
       "    </tr>\n",
       "    <tr>\n",
       "      <th>3</th>\n",
       "      <td>Anthropology</td>\n",
       "      <td>36800.0</td>\n",
       "      <td>61500.0</td>\n",
       "      <td>33800.0</td>\n",
       "      <td>138000.0</td>\n",
       "      <td>HASS</td>\n",
       "    </tr>\n",
       "    <tr>\n",
       "      <th>4</th>\n",
       "      <td>Architecture</td>\n",
       "      <td>41600.0</td>\n",
       "      <td>76800.0</td>\n",
       "      <td>50600.0</td>\n",
       "      <td>136000.0</td>\n",
       "      <td>Business</td>\n",
       "    </tr>\n",
       "  </tbody>\n",
       "</table>\n",
       "</div>"
      ],
      "text/plain": [
       "     Undergraduate Major  Starting Median Salary  Mid-Career Median Salary  \\\n",
       "0             Accounting                 46000.0                   77100.0   \n",
       "1  Aerospace Engineering                 57700.0                  101000.0   \n",
       "2            Agriculture                 42600.0                   71900.0   \n",
       "3           Anthropology                 36800.0                   61500.0   \n",
       "4           Architecture                 41600.0                   76800.0   \n",
       "\n",
       "   Mid-Career 10th Percentile Salary  Mid-Career 90th Percentile Salary  \\\n",
       "0                            42200.0                           152000.0   \n",
       "1                            64300.0                           161000.0   \n",
       "2                            36300.0                           150000.0   \n",
       "3                            33800.0                           138000.0   \n",
       "4                            50600.0                           136000.0   \n",
       "\n",
       "      Group  \n",
       "0  Business  \n",
       "1      STEM  \n",
       "2  Business  \n",
       "3      HASS  \n",
       "4  Business  "
      ]
     },
     "execution_count": 3,
     "metadata": {},
     "output_type": "execute_result"
    }
   ],
   "source": [
    "df.head()"
   ]
  },
  {
   "cell_type": "code",
   "execution_count": 4,
   "id": "c3d42186",
   "metadata": {},
   "outputs": [
    {
     "data": {
      "text/plain": [
       "(51, 6)"
      ]
     },
     "execution_count": 4,
     "metadata": {},
     "output_type": "execute_result"
    }
   ],
   "source": [
    "df.shape"
   ]
  },
  {
   "cell_type": "code",
   "execution_count": 5,
   "id": "849765c7",
   "metadata": {},
   "outputs": [
    {
     "data": {
      "text/plain": [
       "Index(['Undergraduate Major', 'Starting Median Salary',\n",
       "       'Mid-Career Median Salary', 'Mid-Career 10th Percentile Salary',\n",
       "       'Mid-Career 90th Percentile Salary', 'Group'],\n",
       "      dtype='object')"
      ]
     },
     "execution_count": 5,
     "metadata": {},
     "output_type": "execute_result"
    }
   ],
   "source": [
    "df.columns"
   ]
  },
  {
   "cell_type": "code",
   "execution_count": 6,
   "id": "8d45b5fb",
   "metadata": {},
   "outputs": [
    {
     "data": {
      "text/html": [
       "<div>\n",
       "<style scoped>\n",
       "    .dataframe tbody tr th:only-of-type {\n",
       "        vertical-align: middle;\n",
       "    }\n",
       "\n",
       "    .dataframe tbody tr th {\n",
       "        vertical-align: top;\n",
       "    }\n",
       "\n",
       "    .dataframe thead th {\n",
       "        text-align: right;\n",
       "    }\n",
       "</style>\n",
       "<table border=\"1\" class=\"dataframe\">\n",
       "  <thead>\n",
       "    <tr style=\"text-align: right;\">\n",
       "      <th></th>\n",
       "      <th>Undergraduate Major</th>\n",
       "      <th>Starting Median Salary</th>\n",
       "      <th>Mid-Career Median Salary</th>\n",
       "      <th>Mid-Career 10th Percentile Salary</th>\n",
       "      <th>Mid-Career 90th Percentile Salary</th>\n",
       "      <th>Group</th>\n",
       "    </tr>\n",
       "  </thead>\n",
       "  <tbody>\n",
       "    <tr>\n",
       "      <th>46</th>\n",
       "      <td>Psychology</td>\n",
       "      <td>35900.0</td>\n",
       "      <td>60400.0</td>\n",
       "      <td>31600.0</td>\n",
       "      <td>127000.0</td>\n",
       "      <td>HASS</td>\n",
       "    </tr>\n",
       "    <tr>\n",
       "      <th>47</th>\n",
       "      <td>Religion</td>\n",
       "      <td>34100.0</td>\n",
       "      <td>52000.0</td>\n",
       "      <td>29700.0</td>\n",
       "      <td>96400.0</td>\n",
       "      <td>HASS</td>\n",
       "    </tr>\n",
       "    <tr>\n",
       "      <th>48</th>\n",
       "      <td>Sociology</td>\n",
       "      <td>36500.0</td>\n",
       "      <td>58200.0</td>\n",
       "      <td>30700.0</td>\n",
       "      <td>118000.0</td>\n",
       "      <td>HASS</td>\n",
       "    </tr>\n",
       "    <tr>\n",
       "      <th>49</th>\n",
       "      <td>Spanish</td>\n",
       "      <td>34000.0</td>\n",
       "      <td>53100.0</td>\n",
       "      <td>31000.0</td>\n",
       "      <td>96400.0</td>\n",
       "      <td>HASS</td>\n",
       "    </tr>\n",
       "    <tr>\n",
       "      <th>50</th>\n",
       "      <td>Source: PayScale Inc.</td>\n",
       "      <td>NaN</td>\n",
       "      <td>NaN</td>\n",
       "      <td>NaN</td>\n",
       "      <td>NaN</td>\n",
       "      <td>NaN</td>\n",
       "    </tr>\n",
       "  </tbody>\n",
       "</table>\n",
       "</div>"
      ],
      "text/plain": [
       "      Undergraduate Major  Starting Median Salary  Mid-Career Median Salary  \\\n",
       "46             Psychology                 35900.0                   60400.0   \n",
       "47               Religion                 34100.0                   52000.0   \n",
       "48              Sociology                 36500.0                   58200.0   \n",
       "49                Spanish                 34000.0                   53100.0   \n",
       "50  Source: PayScale Inc.                     NaN                       NaN   \n",
       "\n",
       "    Mid-Career 10th Percentile Salary  Mid-Career 90th Percentile Salary Group  \n",
       "46                            31600.0                           127000.0  HASS  \n",
       "47                            29700.0                            96400.0  HASS  \n",
       "48                            30700.0                           118000.0  HASS  \n",
       "49                            31000.0                            96400.0  HASS  \n",
       "50                                NaN                                NaN   NaN  "
      ]
     },
     "execution_count": 6,
     "metadata": {},
     "output_type": "execute_result"
    }
   ],
   "source": [
    "df.tail()"
   ]
  },
  {
   "cell_type": "code",
   "execution_count": 7,
   "id": "fe811a3d",
   "metadata": {},
   "outputs": [
    {
     "data": {
      "text/html": [
       "<div>\n",
       "<style scoped>\n",
       "    .dataframe tbody tr th:only-of-type {\n",
       "        vertical-align: middle;\n",
       "    }\n",
       "\n",
       "    .dataframe tbody tr th {\n",
       "        vertical-align: top;\n",
       "    }\n",
       "\n",
       "    .dataframe thead th {\n",
       "        text-align: right;\n",
       "    }\n",
       "</style>\n",
       "<table border=\"1\" class=\"dataframe\">\n",
       "  <thead>\n",
       "    <tr style=\"text-align: right;\">\n",
       "      <th></th>\n",
       "      <th>Undergraduate Major</th>\n",
       "      <th>Starting Median Salary</th>\n",
       "      <th>Mid-Career Median Salary</th>\n",
       "      <th>Mid-Career 10th Percentile Salary</th>\n",
       "      <th>Mid-Career 90th Percentile Salary</th>\n",
       "      <th>Group</th>\n",
       "    </tr>\n",
       "  </thead>\n",
       "  <tbody>\n",
       "    <tr>\n",
       "      <th>45</th>\n",
       "      <td>Political Science</td>\n",
       "      <td>40800.0</td>\n",
       "      <td>78200.0</td>\n",
       "      <td>41200.0</td>\n",
       "      <td>168000.0</td>\n",
       "      <td>HASS</td>\n",
       "    </tr>\n",
       "    <tr>\n",
       "      <th>46</th>\n",
       "      <td>Psychology</td>\n",
       "      <td>35900.0</td>\n",
       "      <td>60400.0</td>\n",
       "      <td>31600.0</td>\n",
       "      <td>127000.0</td>\n",
       "      <td>HASS</td>\n",
       "    </tr>\n",
       "    <tr>\n",
       "      <th>47</th>\n",
       "      <td>Religion</td>\n",
       "      <td>34100.0</td>\n",
       "      <td>52000.0</td>\n",
       "      <td>29700.0</td>\n",
       "      <td>96400.0</td>\n",
       "      <td>HASS</td>\n",
       "    </tr>\n",
       "    <tr>\n",
       "      <th>48</th>\n",
       "      <td>Sociology</td>\n",
       "      <td>36500.0</td>\n",
       "      <td>58200.0</td>\n",
       "      <td>30700.0</td>\n",
       "      <td>118000.0</td>\n",
       "      <td>HASS</td>\n",
       "    </tr>\n",
       "    <tr>\n",
       "      <th>49</th>\n",
       "      <td>Spanish</td>\n",
       "      <td>34000.0</td>\n",
       "      <td>53100.0</td>\n",
       "      <td>31000.0</td>\n",
       "      <td>96400.0</td>\n",
       "      <td>HASS</td>\n",
       "    </tr>\n",
       "  </tbody>\n",
       "</table>\n",
       "</div>"
      ],
      "text/plain": [
       "   Undergraduate Major  Starting Median Salary  Mid-Career Median Salary  \\\n",
       "45   Political Science                 40800.0                   78200.0   \n",
       "46          Psychology                 35900.0                   60400.0   \n",
       "47            Religion                 34100.0                   52000.0   \n",
       "48           Sociology                 36500.0                   58200.0   \n",
       "49             Spanish                 34000.0                   53100.0   \n",
       "\n",
       "    Mid-Career 10th Percentile Salary  Mid-Career 90th Percentile Salary Group  \n",
       "45                            41200.0                           168000.0  HASS  \n",
       "46                            31600.0                           127000.0  HASS  \n",
       "47                            29700.0                            96400.0  HASS  \n",
       "48                            30700.0                           118000.0  HASS  \n",
       "49                            31000.0                            96400.0  HASS  "
      ]
     },
     "execution_count": 7,
     "metadata": {},
     "output_type": "execute_result"
    }
   ],
   "source": [
    "clean_df = df.dropna()\n",
    "clean_df.tail()"
   ]
  },
  {
   "cell_type": "markdown",
   "id": "4ab8f87a",
   "metadata": {},
   "source": [
    "#### Which college major has the highest starting salary and how much can people expect to earn with this degree?"
   ]
  },
  {
   "cell_type": "code",
   "execution_count": 8,
   "id": "3602b692",
   "metadata": {},
   "outputs": [
    {
     "data": {
      "text/plain": [
       "74300.0"
      ]
     },
     "execution_count": 8,
     "metadata": {},
     "output_type": "execute_result"
    }
   ],
   "source": [
    "clean_df['Starting Median Salary'].max()"
   ]
  },
  {
   "cell_type": "code",
   "execution_count": 9,
   "id": "dd3cfdaf",
   "metadata": {},
   "outputs": [
    {
     "data": {
      "text/plain": [
       "43"
      ]
     },
     "execution_count": 9,
     "metadata": {},
     "output_type": "execute_result"
    }
   ],
   "source": [
    "clean_df['Starting Median Salary'].idxmax()"
   ]
  },
  {
   "cell_type": "code",
   "execution_count": 10,
   "id": "765e6d3d",
   "metadata": {},
   "outputs": [
    {
     "data": {
      "text/plain": [
       "'Physician Assistant'"
      ]
     },
     "execution_count": 10,
     "metadata": {},
     "output_type": "execute_result"
    }
   ],
   "source": [
    "clean_df['Undergraduate Major'].loc[clean_df['Starting Median Salary'].idxmax()]"
   ]
  },
  {
   "cell_type": "code",
   "execution_count": 11,
   "id": "e26e39f4",
   "metadata": {},
   "outputs": [
    {
     "data": {
      "text/plain": [
       "Undergraduate Major                  Physician Assistant\n",
       "Starting Median Salary                           74300.0\n",
       "Mid-Career Median Salary                         91700.0\n",
       "Mid-Career 10th Percentile Salary                66400.0\n",
       "Mid-Career 90th Percentile Salary               124000.0\n",
       "Group                                               STEM\n",
       "Name: 43, dtype: object"
      ]
     },
     "execution_count": 11,
     "metadata": {},
     "output_type": "execute_result"
    }
   ],
   "source": [
    "clean_df.loc[clean_df['Starting Median Salary'].idxmax()]"
   ]
  },
  {
   "cell_type": "markdown",
   "id": "d42ddd1a",
   "metadata": {},
   "source": [
    "#### What college major has the highest mid-career salary? How much do graduates with this major earn? (Mid-career is defined as having 10+ years of experience)."
   ]
  },
  {
   "cell_type": "code",
   "execution_count": 25,
   "id": "7d2ab9af",
   "metadata": {},
   "outputs": [
    {
     "name": "stdout",
     "output_type": "stream",
     "text": [
      "College major with the highest mid-career salary: Chemical Engineering\n",
      "Graduates with this major earns: 107000.0\n"
     ]
    }
   ],
   "source": [
    "print(f\"College major with the highest mid-career salary: {clean_df['Undergraduate Major'].loc[clean_df['Mid-Career Median Salary'].idxmax()]}\")\n",
    "print(f\"Graduates with this major earns: {clean_df['Mid-Career Median Salary'].max()}\")"
   ]
  },
  {
   "cell_type": "markdown",
   "id": "fcf115fe",
   "metadata": {},
   "source": [
    "#### Which college major has the lowest starting salary and how much do graduates earn after university?"
   ]
  },
  {
   "cell_type": "code",
   "execution_count": 13,
   "id": "edf9f419",
   "metadata": {},
   "outputs": [
    {
     "name": "stdout",
     "output_type": "stream",
     "text": [
      "College major with the lowest starting salary: Spanish\n",
      "What graduates earn after university: 34000.0\n"
     ]
    }
   ],
   "source": [
    "print(f\"College major with the lowest starting salary: {clean_df['Undergraduate Major'].loc[clean_df['Starting Median Salary'].idxmin()]}\")\n",
    "print(f\"What graduates earn after university: {clean_df['Starting Median Salary'].min()}\")"
   ]
  },
  {
   "cell_type": "markdown",
   "id": "55b2d280",
   "metadata": {},
   "source": [
    "#### Which college major has the lowest mid-career salary and how much can people expect to earn with this degree?"
   ]
  },
  {
   "cell_type": "code",
   "execution_count": 14,
   "id": "a3da9f7f",
   "metadata": {},
   "outputs": [
    {
     "data": {
      "text/plain": [
       "Undergraduate Major                  Education\n",
       "Starting Median Salary                 34900.0\n",
       "Mid-Career Median Salary               52000.0\n",
       "Mid-Career 10th Percentile Salary      29300.0\n",
       "Mid-Career 90th Percentile Salary     102000.0\n",
       "Group                                     HASS\n",
       "Name: 18, dtype: object"
      ]
     },
     "execution_count": 14,
     "metadata": {},
     "output_type": "execute_result"
    }
   ],
   "source": [
    "clean_df.loc[clean_df['Mid-Career Median Salary'].idxmin()]"
   ]
  },
  {
   "cell_type": "markdown",
   "id": "25aee24c",
   "metadata": {},
   "source": [
    "#### Lowest Risk Majors\n",
    "\n",
    "A low-risk major is a degree where there is a small difference between the lowest and highest salaries. In other words, if the difference between the 10th percentile and the 90th percentile earnings of your major is small, then you can be more certain about your salary after you graduate."
   ]
  },
  {
   "cell_type": "code",
   "execution_count": 19,
   "id": "107ed979",
   "metadata": {},
   "outputs": [
    {
     "data": {
      "text/html": [
       "<div>\n",
       "<style scoped>\n",
       "    .dataframe tbody tr th:only-of-type {\n",
       "        vertical-align: middle;\n",
       "    }\n",
       "\n",
       "    .dataframe tbody tr th {\n",
       "        vertical-align: top;\n",
       "    }\n",
       "\n",
       "    .dataframe thead th {\n",
       "        text-align: right;\n",
       "    }\n",
       "</style>\n",
       "<table border=\"1\" class=\"dataframe\">\n",
       "  <thead>\n",
       "    <tr style=\"text-align: right;\">\n",
       "      <th></th>\n",
       "      <th>Undergraduate Major</th>\n",
       "      <th>Spread</th>\n",
       "      <th>Starting Median Salary</th>\n",
       "      <th>Mid-Career Median Salary</th>\n",
       "      <th>Mid-Career 10th Percentile Salary</th>\n",
       "      <th>Mid-Career 90th Percentile Salary</th>\n",
       "      <th>Group</th>\n",
       "    </tr>\n",
       "  </thead>\n",
       "  <tbody>\n",
       "    <tr>\n",
       "      <th>0</th>\n",
       "      <td>Accounting</td>\n",
       "      <td>109800.0</td>\n",
       "      <td>46000.0</td>\n",
       "      <td>77100.0</td>\n",
       "      <td>42200.0</td>\n",
       "      <td>152000.0</td>\n",
       "      <td>Business</td>\n",
       "    </tr>\n",
       "    <tr>\n",
       "      <th>1</th>\n",
       "      <td>Aerospace Engineering</td>\n",
       "      <td>96700.0</td>\n",
       "      <td>57700.0</td>\n",
       "      <td>101000.0</td>\n",
       "      <td>64300.0</td>\n",
       "      <td>161000.0</td>\n",
       "      <td>STEM</td>\n",
       "    </tr>\n",
       "    <tr>\n",
       "      <th>2</th>\n",
       "      <td>Agriculture</td>\n",
       "      <td>113700.0</td>\n",
       "      <td>42600.0</td>\n",
       "      <td>71900.0</td>\n",
       "      <td>36300.0</td>\n",
       "      <td>150000.0</td>\n",
       "      <td>Business</td>\n",
       "    </tr>\n",
       "    <tr>\n",
       "      <th>3</th>\n",
       "      <td>Anthropology</td>\n",
       "      <td>104200.0</td>\n",
       "      <td>36800.0</td>\n",
       "      <td>61500.0</td>\n",
       "      <td>33800.0</td>\n",
       "      <td>138000.0</td>\n",
       "      <td>HASS</td>\n",
       "    </tr>\n",
       "    <tr>\n",
       "      <th>4</th>\n",
       "      <td>Architecture</td>\n",
       "      <td>85400.0</td>\n",
       "      <td>41600.0</td>\n",
       "      <td>76800.0</td>\n",
       "      <td>50600.0</td>\n",
       "      <td>136000.0</td>\n",
       "      <td>Business</td>\n",
       "    </tr>\n",
       "  </tbody>\n",
       "</table>\n",
       "</div>"
      ],
      "text/plain": [
       "     Undergraduate Major    Spread  Starting Median Salary  \\\n",
       "0             Accounting  109800.0                 46000.0   \n",
       "1  Aerospace Engineering   96700.0                 57700.0   \n",
       "2            Agriculture  113700.0                 42600.0   \n",
       "3           Anthropology  104200.0                 36800.0   \n",
       "4           Architecture   85400.0                 41600.0   \n",
       "\n",
       "   Mid-Career Median Salary  Mid-Career 10th Percentile Salary  \\\n",
       "0                   77100.0                            42200.0   \n",
       "1                  101000.0                            64300.0   \n",
       "2                   71900.0                            36300.0   \n",
       "3                   61500.0                            33800.0   \n",
       "4                   76800.0                            50600.0   \n",
       "\n",
       "   Mid-Career 90th Percentile Salary     Group  \n",
       "0                           152000.0  Business  \n",
       "1                           161000.0      STEM  \n",
       "2                           150000.0  Business  \n",
       "3                           138000.0      HASS  \n",
       "4                           136000.0  Business  "
      ]
     },
     "execution_count": 19,
     "metadata": {},
     "output_type": "execute_result"
    }
   ],
   "source": [
    "spread_col = clean_df['Mid-Career 90th Percentile Salary'].subtract(clean_df['Mid-Career 10th Percentile Salary'])\n",
    "clean_df.insert(1, 'Spread', spread_col)\n",
    "clean_df.head()"
   ]
  },
  {
   "cell_type": "code",
   "execution_count": 32,
   "id": "2cb8a6df",
   "metadata": {},
   "outputs": [
    {
     "data": {
      "text/html": [
       "<div>\n",
       "<style scoped>\n",
       "    .dataframe tbody tr th:only-of-type {\n",
       "        vertical-align: middle;\n",
       "    }\n",
       "\n",
       "    .dataframe tbody tr th {\n",
       "        vertical-align: top;\n",
       "    }\n",
       "\n",
       "    .dataframe thead th {\n",
       "        text-align: right;\n",
       "    }\n",
       "</style>\n",
       "<table border=\"1\" class=\"dataframe\">\n",
       "  <thead>\n",
       "    <tr style=\"text-align: right;\">\n",
       "      <th></th>\n",
       "      <th>Undergraduate Major</th>\n",
       "      <th>Spread</th>\n",
       "    </tr>\n",
       "  </thead>\n",
       "  <tbody>\n",
       "    <tr>\n",
       "      <th>40</th>\n",
       "      <td>Nursing</td>\n",
       "      <td>50700.0</td>\n",
       "    </tr>\n",
       "    <tr>\n",
       "      <th>43</th>\n",
       "      <td>Physician Assistant</td>\n",
       "      <td>57600.0</td>\n",
       "    </tr>\n",
       "    <tr>\n",
       "      <th>41</th>\n",
       "      <td>Nutrition</td>\n",
       "      <td>65300.0</td>\n",
       "    </tr>\n",
       "    <tr>\n",
       "      <th>49</th>\n",
       "      <td>Spanish</td>\n",
       "      <td>65400.0</td>\n",
       "    </tr>\n",
       "    <tr>\n",
       "      <th>27</th>\n",
       "      <td>Health Care Administration</td>\n",
       "      <td>66400.0</td>\n",
       "    </tr>\n",
       "  </tbody>\n",
       "</table>\n",
       "</div>"
      ],
      "text/plain": [
       "           Undergraduate Major   Spread\n",
       "40                     Nursing  50700.0\n",
       "43         Physician Assistant  57600.0\n",
       "41                   Nutrition  65300.0\n",
       "49                     Spanish  65400.0\n",
       "27  Health Care Administration  66400.0"
      ]
     },
     "execution_count": 32,
     "metadata": {},
     "output_type": "execute_result"
    }
   ],
   "source": [
    "low_risk = clean_df.sort_values('Spread')\n",
    "low_risk = low_risk[['Undergraduate Major', 'Spread']]\n",
    "low_risk.head()"
   ]
  },
  {
   "cell_type": "markdown",
   "id": "4790cb75",
   "metadata": {},
   "source": [
    "#### Degrees with the highest risk potential"
   ]
  },
  {
   "cell_type": "code",
   "execution_count": 33,
   "id": "d653cc43",
   "metadata": {},
   "outputs": [
    {
     "data": {
      "text/html": [
       "<div>\n",
       "<style scoped>\n",
       "    .dataframe tbody tr th:only-of-type {\n",
       "        vertical-align: middle;\n",
       "    }\n",
       "\n",
       "    .dataframe tbody tr th {\n",
       "        vertical-align: top;\n",
       "    }\n",
       "\n",
       "    .dataframe thead th {\n",
       "        text-align: right;\n",
       "    }\n",
       "</style>\n",
       "<table border=\"1\" class=\"dataframe\">\n",
       "  <thead>\n",
       "    <tr style=\"text-align: right;\">\n",
       "      <th></th>\n",
       "      <th>Undergraduate Major</th>\n",
       "      <th>Spread</th>\n",
       "    </tr>\n",
       "  </thead>\n",
       "  <tbody>\n",
       "    <tr>\n",
       "      <th>17</th>\n",
       "      <td>Economics</td>\n",
       "      <td>159400.0</td>\n",
       "    </tr>\n",
       "    <tr>\n",
       "      <th>22</th>\n",
       "      <td>Finance</td>\n",
       "      <td>147800.0</td>\n",
       "    </tr>\n",
       "    <tr>\n",
       "      <th>37</th>\n",
       "      <td>Math</td>\n",
       "      <td>137800.0</td>\n",
       "    </tr>\n",
       "    <tr>\n",
       "      <th>36</th>\n",
       "      <td>Marketing</td>\n",
       "      <td>132900.0</td>\n",
       "    </tr>\n",
       "    <tr>\n",
       "      <th>42</th>\n",
       "      <td>Philosophy</td>\n",
       "      <td>132500.0</td>\n",
       "    </tr>\n",
       "  </tbody>\n",
       "</table>\n",
       "</div>"
      ],
      "text/plain": [
       "   Undergraduate Major    Spread\n",
       "17           Economics  159400.0\n",
       "22             Finance  147800.0\n",
       "37                Math  137800.0\n",
       "36           Marketing  132900.0\n",
       "42          Philosophy  132500.0"
      ]
     },
     "execution_count": 33,
     "metadata": {},
     "output_type": "execute_result"
    }
   ],
   "source": [
    "high_risk = clean_df.sort_values('Spread', ascending=False)\n",
    "high_risk = high_risk[['Undergraduate Major', 'Spread']]\n",
    "high_risk.head()"
   ]
  },
  {
   "cell_type": "markdown",
   "id": "86114367",
   "metadata": {},
   "source": [
    "#### Top 5 degrees with the highest values in the 90th percentile"
   ]
  },
  {
   "cell_type": "code",
   "execution_count": 34,
   "id": "bf5cd634",
   "metadata": {},
   "outputs": [
    {
     "data": {
      "text/html": [
       "<div>\n",
       "<style scoped>\n",
       "    .dataframe tbody tr th:only-of-type {\n",
       "        vertical-align: middle;\n",
       "    }\n",
       "\n",
       "    .dataframe tbody tr th {\n",
       "        vertical-align: top;\n",
       "    }\n",
       "\n",
       "    .dataframe thead th {\n",
       "        text-align: right;\n",
       "    }\n",
       "</style>\n",
       "<table border=\"1\" class=\"dataframe\">\n",
       "  <thead>\n",
       "    <tr style=\"text-align: right;\">\n",
       "      <th></th>\n",
       "      <th>Undergraduate Major</th>\n",
       "      <th>Mid-Career 90th Percentile Salary</th>\n",
       "    </tr>\n",
       "  </thead>\n",
       "  <tbody>\n",
       "    <tr>\n",
       "      <th>17</th>\n",
       "      <td>Economics</td>\n",
       "      <td>210000.0</td>\n",
       "    </tr>\n",
       "    <tr>\n",
       "      <th>22</th>\n",
       "      <td>Finance</td>\n",
       "      <td>195000.0</td>\n",
       "    </tr>\n",
       "    <tr>\n",
       "      <th>8</th>\n",
       "      <td>Chemical Engineering</td>\n",
       "      <td>194000.0</td>\n",
       "    </tr>\n",
       "    <tr>\n",
       "      <th>37</th>\n",
       "      <td>Math</td>\n",
       "      <td>183000.0</td>\n",
       "    </tr>\n",
       "    <tr>\n",
       "      <th>44</th>\n",
       "      <td>Physics</td>\n",
       "      <td>178000.0</td>\n",
       "    </tr>\n",
       "  </tbody>\n",
       "</table>\n",
       "</div>"
      ],
      "text/plain": [
       "     Undergraduate Major  Mid-Career 90th Percentile Salary\n",
       "17             Economics                           210000.0\n",
       "22               Finance                           195000.0\n",
       "8   Chemical Engineering                           194000.0\n",
       "37                  Math                           183000.0\n",
       "44               Physics                           178000.0"
      ]
     },
     "execution_count": 34,
     "metadata": {},
     "output_type": "execute_result"
    }
   ],
   "source": [
    "highest_90th_per = clean_df.sort_values('Mid-Career 90th Percentile Salary', ascending=False)\n",
    "highest_90th_per = highest_90th_per[['Undergraduate Major', 'Mid-Career 90th Percentile Salary']]\n",
    "highest_90th_per.head()"
   ]
  },
  {
   "cell_type": "markdown",
   "id": "68e322ac",
   "metadata": {},
   "source": [
    "#### Degrees with the greatest spread in salaries"
   ]
  },
  {
   "cell_type": "code",
   "execution_count": 35,
   "id": "6e7f50e6",
   "metadata": {},
   "outputs": [
    {
     "data": {
      "text/html": [
       "<div>\n",
       "<style scoped>\n",
       "    .dataframe tbody tr th:only-of-type {\n",
       "        vertical-align: middle;\n",
       "    }\n",
       "\n",
       "    .dataframe tbody tr th {\n",
       "        vertical-align: top;\n",
       "    }\n",
       "\n",
       "    .dataframe thead th {\n",
       "        text-align: right;\n",
       "    }\n",
       "</style>\n",
       "<table border=\"1\" class=\"dataframe\">\n",
       "  <thead>\n",
       "    <tr style=\"text-align: right;\">\n",
       "      <th></th>\n",
       "      <th>Undergraduate Major</th>\n",
       "      <th>Mid-Career Median Salary</th>\n",
       "    </tr>\n",
       "  </thead>\n",
       "  <tbody>\n",
       "    <tr>\n",
       "      <th>8</th>\n",
       "      <td>Chemical Engineering</td>\n",
       "      <td>107000.0</td>\n",
       "    </tr>\n",
       "    <tr>\n",
       "      <th>12</th>\n",
       "      <td>Computer Engineering</td>\n",
       "      <td>105000.0</td>\n",
       "    </tr>\n",
       "    <tr>\n",
       "      <th>19</th>\n",
       "      <td>Electrical Engineering</td>\n",
       "      <td>103000.0</td>\n",
       "    </tr>\n",
       "    <tr>\n",
       "      <th>1</th>\n",
       "      <td>Aerospace Engineering</td>\n",
       "      <td>101000.0</td>\n",
       "    </tr>\n",
       "    <tr>\n",
       "      <th>17</th>\n",
       "      <td>Economics</td>\n",
       "      <td>98600.0</td>\n",
       "    </tr>\n",
       "  </tbody>\n",
       "</table>\n",
       "</div>"
      ],
      "text/plain": [
       "       Undergraduate Major  Mid-Career Median Salary\n",
       "8     Chemical Engineering                  107000.0\n",
       "12    Computer Engineering                  105000.0\n",
       "19  Electrical Engineering                  103000.0\n",
       "1    Aerospace Engineering                  101000.0\n",
       "17               Economics                   98600.0"
      ]
     },
     "execution_count": 35,
     "metadata": {},
     "output_type": "execute_result"
    }
   ],
   "source": [
    "gss = clean_df.sort_values('Mid-Career Median Salary', ascending=False)\n",
    "gss = gss[['Undergraduate Major','Mid-Career Median Salary']]\n",
    "gss.head()"
   ]
  },
  {
   "cell_type": "markdown",
   "id": "867880c6",
   "metadata": {},
   "source": [
    "#### Count how many majors we have in each category"
   ]
  },
  {
   "cell_type": "code",
   "execution_count": 39,
   "id": "a40e048e",
   "metadata": {
    "scrolled": true
   },
   "outputs": [
    {
     "data": {
      "text/html": [
       "<div>\n",
       "<style scoped>\n",
       "    .dataframe tbody tr th:only-of-type {\n",
       "        vertical-align: middle;\n",
       "    }\n",
       "\n",
       "    .dataframe tbody tr th {\n",
       "        vertical-align: top;\n",
       "    }\n",
       "\n",
       "    .dataframe thead th {\n",
       "        text-align: right;\n",
       "    }\n",
       "</style>\n",
       "<table border=\"1\" class=\"dataframe\">\n",
       "  <thead>\n",
       "    <tr style=\"text-align: right;\">\n",
       "      <th></th>\n",
       "      <th>Undergraduate Major</th>\n",
       "      <th>Spread</th>\n",
       "      <th>Starting Median Salary</th>\n",
       "      <th>Mid-Career Median Salary</th>\n",
       "      <th>Mid-Career 10th Percentile Salary</th>\n",
       "      <th>Mid-Career 90th Percentile Salary</th>\n",
       "    </tr>\n",
       "    <tr>\n",
       "      <th>Group</th>\n",
       "      <th></th>\n",
       "      <th></th>\n",
       "      <th></th>\n",
       "      <th></th>\n",
       "      <th></th>\n",
       "      <th></th>\n",
       "    </tr>\n",
       "  </thead>\n",
       "  <tbody>\n",
       "    <tr>\n",
       "      <th>Business</th>\n",
       "      <td>12</td>\n",
       "      <td>12</td>\n",
       "      <td>12</td>\n",
       "      <td>12</td>\n",
       "      <td>12</td>\n",
       "      <td>12</td>\n",
       "    </tr>\n",
       "    <tr>\n",
       "      <th>HASS</th>\n",
       "      <td>22</td>\n",
       "      <td>22</td>\n",
       "      <td>22</td>\n",
       "      <td>22</td>\n",
       "      <td>22</td>\n",
       "      <td>22</td>\n",
       "    </tr>\n",
       "    <tr>\n",
       "      <th>STEM</th>\n",
       "      <td>16</td>\n",
       "      <td>16</td>\n",
       "      <td>16</td>\n",
       "      <td>16</td>\n",
       "      <td>16</td>\n",
       "      <td>16</td>\n",
       "    </tr>\n",
       "  </tbody>\n",
       "</table>\n",
       "</div>"
      ],
      "text/plain": [
       "          Undergraduate Major  Spread  Starting Median Salary  \\\n",
       "Group                                                           \n",
       "Business                   12      12                      12   \n",
       "HASS                       22      22                      22   \n",
       "STEM                       16      16                      16   \n",
       "\n",
       "          Mid-Career Median Salary  Mid-Career 10th Percentile Salary  \\\n",
       "Group                                                                   \n",
       "Business                        12                                 12   \n",
       "HASS                            22                                 22   \n",
       "STEM                            16                                 16   \n",
       "\n",
       "          Mid-Career 90th Percentile Salary  \n",
       "Group                                        \n",
       "Business                                 12  \n",
       "HASS                                     22  \n",
       "STEM                                     16  "
      ]
     },
     "execution_count": 39,
     "metadata": {},
     "output_type": "execute_result"
    }
   ],
   "source": [
    "clean_df.groupby('Group').count()"
   ]
  },
  {
   "cell_type": "markdown",
   "id": "5fa39d36",
   "metadata": {},
   "source": [
    "#### Find the average salary by group?"
   ]
  },
  {
   "cell_type": "code",
   "execution_count": 45,
   "id": "5633d756",
   "metadata": {},
   "outputs": [
    {
     "name": "stderr",
     "output_type": "stream",
     "text": [
      "C:\\Users\\DSMSD\\AppData\\Local\\Temp\\ipykernel_22524\\1335618228.py:2: FutureWarning: The default value of numeric_only in DataFrameGroupBy.mean is deprecated. In a future version, numeric_only will default to False. Either specify numeric_only or select only columns which should be valid for the function.\n",
      "  clean_df.groupby('Group').mean()\n"
     ]
    },
    {
     "data": {
      "text/html": [
       "<div>\n",
       "<style scoped>\n",
       "    .dataframe tbody tr th:only-of-type {\n",
       "        vertical-align: middle;\n",
       "    }\n",
       "\n",
       "    .dataframe tbody tr th {\n",
       "        vertical-align: top;\n",
       "    }\n",
       "\n",
       "    .dataframe thead th {\n",
       "        text-align: right;\n",
       "    }\n",
       "</style>\n",
       "<table border=\"1\" class=\"dataframe\">\n",
       "  <thead>\n",
       "    <tr style=\"text-align: right;\">\n",
       "      <th></th>\n",
       "      <th>Spread</th>\n",
       "      <th>Starting Median Salary</th>\n",
       "      <th>Mid-Career Median Salary</th>\n",
       "      <th>Mid-Career 10th Percentile Salary</th>\n",
       "      <th>Mid-Career 90th Percentile Salary</th>\n",
       "    </tr>\n",
       "    <tr>\n",
       "      <th>Group</th>\n",
       "      <th></th>\n",
       "      <th></th>\n",
       "      <th></th>\n",
       "      <th></th>\n",
       "      <th></th>\n",
       "    </tr>\n",
       "  </thead>\n",
       "  <tbody>\n",
       "    <tr>\n",
       "      <th>Business</th>\n",
       "      <td>103,958.33</td>\n",
       "      <td>44,633.33</td>\n",
       "      <td>75,083.33</td>\n",
       "      <td>43,566.67</td>\n",
       "      <td>147,525.00</td>\n",
       "    </tr>\n",
       "    <tr>\n",
       "      <th>HASS</th>\n",
       "      <td>95,218.18</td>\n",
       "      <td>37,186.36</td>\n",
       "      <td>62,968.18</td>\n",
       "      <td>34,145.45</td>\n",
       "      <td>129,363.64</td>\n",
       "    </tr>\n",
       "    <tr>\n",
       "      <th>STEM</th>\n",
       "      <td>101,600.00</td>\n",
       "      <td>53,862.50</td>\n",
       "      <td>90,812.50</td>\n",
       "      <td>56,025.00</td>\n",
       "      <td>157,625.00</td>\n",
       "    </tr>\n",
       "  </tbody>\n",
       "</table>\n",
       "</div>"
      ],
      "text/plain": [
       "             Spread  Starting Median Salary  Mid-Career Median Salary  \\\n",
       "Group                                                                   \n",
       "Business 103,958.33               44,633.33                 75,083.33   \n",
       "HASS      95,218.18               37,186.36                 62,968.18   \n",
       "STEM     101,600.00               53,862.50                 90,812.50   \n",
       "\n",
       "          Mid-Career 10th Percentile Salary  Mid-Career 90th Percentile Salary  \n",
       "Group                                                                           \n",
       "Business                          43,566.67                         147,525.00  \n",
       "HASS                              34,145.45                         129,363.64  \n",
       "STEM                              56,025.00                         157,625.00  "
      ]
     },
     "execution_count": 45,
     "metadata": {},
     "output_type": "execute_result"
    }
   ],
   "source": [
    "pd.options.display.float_format = '{:,.2f}'.format\n",
    "clean_df.groupby('Group').mean()"
   ]
  },
  {
   "cell_type": "code",
   "execution_count": null,
   "id": "641531e0",
   "metadata": {},
   "outputs": [],
   "source": []
  }
 ],
 "metadata": {
  "kernelspec": {
   "display_name": "Python 3 (ipykernel)",
   "language": "python",
   "name": "python3"
  },
  "language_info": {
   "codemirror_mode": {
    "name": "ipython",
    "version": 3
   },
   "file_extension": ".py",
   "mimetype": "text/x-python",
   "name": "python",
   "nbconvert_exporter": "python",
   "pygments_lexer": "ipython3",
   "version": "3.10.9"
  }
 },
 "nbformat": 4,
 "nbformat_minor": 5
}
